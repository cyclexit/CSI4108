{
 "cells": [
  {
   "cell_type": "code",
   "execution_count": 6,
   "metadata": {},
   "outputs": [],
   "source": [
    "import random"
   ]
  },
  {
   "cell_type": "markdown",
   "metadata": {},
   "source": [
    "# Person 1"
   ]
  },
  {
   "cell_type": "code",
   "execution_count": 7,
   "metadata": {},
   "outputs": [],
   "source": [
    "# constants\n",
    "NUM_OF_BITS = 16\n",
    "MAX_VALUE = 1 << NUM_OF_BITS - 1\n",
    "PLAINTEXT_NUM = 10000\n",
    "FULL_ENCRYPTION_ROUNDS = 4 # NOTE: round 5 is simply key mixing\n",
    "\n",
    "# variables\n",
    "round_keys = [55382, 42954, 53122, 38368, 40273]\n",
    "\n",
    "s_box = {\n",
    "    0x0: 0xb,\n",
    "    0x1: 0x7,\n",
    "    0x2: 0x5,\n",
    "    0x3: 0xf,\n",
    "    0x4: 0x8,\n",
    "    0x5: 0x9,\n",
    "    0x6: 0x1,\n",
    "    0x7: 0xe,\n",
    "    0x8: 0x4,\n",
    "    0x9: 0xa,\n",
    "    0xa: 0x6,\n",
    "    0xb: 0xd,\n",
    "    0xc: 0x2,\n",
    "    0xd: 0xc,\n",
    "    0xe: 0x0,\n",
    "    0xf: 0x3,\n",
    "}\n",
    "\n",
    "def permutation(bit_str_16: str) -> str:\n",
    "    assert(len(bit_str_16) == NUM_OF_BITS)\n",
    "    res = list(bit_str_16)\n",
    "    for i in range(0, NUM_OF_BITS):\n",
    "        # print(4 * (i % 4) + (i // 4)) # debug\n",
    "        res[4 * (i % 4) + (i // 4)] = bit_str_16[i]\n",
    "    # print(bit_str_16) # debug\n",
    "    # print(''.join(res)) # debug\n",
    "    return ''.join(res)\n",
    "\n",
    "def encrypt_one_round(to_encrypt: int, k: int) -> str:\n",
    "    # key mixing\n",
    "    # print(to_encrypt, k) # debug\n",
    "    to_encrypt ^= k\n",
    "    # print(to_encrypt) # debug\n",
    "\n",
    "    # 4-bit s-box\n",
    "    PART_NUM_OF_BITS = 4\n",
    "    NUM_OF_PARTS = NUM_OF_BITS / PART_NUM_OF_BITS\n",
    "    parts = [] # index 0: least significant\n",
    "    while to_encrypt > 0:\n",
    "        parts.append(to_encrypt % (1 << PART_NUM_OF_BITS))\n",
    "        to_encrypt //= 16\n",
    "    while len(parts) < 4:\n",
    "        parts.append(0)\n",
    "    assert(len(parts) == NUM_OF_PARTS)\n",
    "    parts.reverse()\n",
    "    # print(\"before s-box:\", parts) # debug\n",
    "    for i in range(0, len(parts)):\n",
    "        parts[i] = s_box[parts[i]]\n",
    "    # print(\"after s-box:\", parts) # debug\n",
    "    bit_str_16 = ''.join(f\"{x:0{PART_NUM_OF_BITS}b}\" for x in parts)\n",
    "    # print(bit_str_16) # debug\n",
    "    \n",
    "    # permutation\n",
    "    res = permutation(bit_str_16)\n",
    "    # print(res) # debug\n",
    "    return res\n",
    "\n",
    "def full_encrypt(plaintext: int) -> int:\n",
    "    # print(plaintext, f\"{plaintext:0{NUM_OF_BITS}b}\") # debug\n",
    "    tmp = plaintext\n",
    "    for i in range(0, FULL_ENCRYPTION_ROUNDS):\n",
    "        tmp = int(encrypt_one_round(tmp, round_keys[i]), 2)\n",
    "        # print(f\"Round {i + 1}:\") # debug\n",
    "        # print(tmp, f\"{tmp:0{NUM_OF_BITS}b}\") # debug\n",
    "    # last round: simple key mixing\n",
    "    tmp ^= round_keys[FULL_ENCRYPTION_ROUNDS]\n",
    "    # print(tmp, f\"{tmp:0{NUM_OF_BITS}b}\") # debug\n",
    "    return tmp"
   ]
  },
  {
   "cell_type": "code",
   "execution_count": 8,
   "metadata": {},
   "outputs": [],
   "source": [
    "# generate plaintext-ciphertext pairs\n",
    "pc_paris = dict()\n",
    "while len(pc_paris) < PLAINTEXT_NUM:\n",
    "    plaintext = random.randint(0, MAX_VALUE)\n",
    "    if plaintext in pc_paris.keys():\n",
    "        continue\n",
    "    pc_paris[plaintext] = full_encrypt(plaintext)\n",
    "    # TODO: satisfy the chosen plaintext attack requirements\n",
    "assert(len(pc_paris) == PLAINTEXT_NUM)\n",
    "# print(pc_paris)"
   ]
  },
  {
   "cell_type": "markdown",
   "metadata": {},
   "source": [
    "# Person 2"
   ]
  },
  {
   "cell_type": "code",
   "execution_count": null,
   "metadata": {},
   "outputs": [],
   "source": []
  }
 ],
 "metadata": {
  "kernelspec": {
   "display_name": "Python 3.8.10 64-bit",
   "language": "python",
   "name": "python3"
  },
  "language_info": {
   "codemirror_mode": {
    "name": "ipython",
    "version": 3
   },
   "file_extension": ".py",
   "mimetype": "text/x-python",
   "name": "python",
   "nbconvert_exporter": "python",
   "pygments_lexer": "ipython3",
   "version": "3.8.10"
  },
  "orig_nbformat": 4,
  "vscode": {
   "interpreter": {
    "hash": "0abbb9a539d9e0321e8a1c94c5dc42e0fba80547b1aefc472ffee8d680ca5a7f"
   }
  }
 },
 "nbformat": 4,
 "nbformat_minor": 2
}
