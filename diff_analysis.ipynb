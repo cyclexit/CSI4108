{
 "cells": [
  {
   "cell_type": "code",
   "execution_count": 106,
   "metadata": {},
   "outputs": [],
   "source": [
    "import random\n",
    "import matplotlib.pyplot as plt\n",
    "import numpy as np"
   ]
  },
  {
   "cell_type": "code",
   "execution_count": 107,
   "metadata": {},
   "outputs": [],
   "source": [
    "def to_bit_str(val: int, num_of_bits: int):\n",
    "    return f\"{val:0{num_of_bits}b}\""
   ]
  },
  {
   "cell_type": "markdown",
   "metadata": {},
   "source": [
    "# Person 1"
   ]
  },
  {
   "cell_type": "code",
   "execution_count": 108,
   "metadata": {},
   "outputs": [],
   "source": [
    "# constants\n",
    "PLAINTEXT_BITS = 16\n",
    "MAX_VALUE = 1 << PLAINTEXT_BITS - 1\n",
    "PLAINTEXT_NUM = 10000\n",
    "FULL_ENCRYPTION_ROUNDS = 4 # NOTE: round 5 is simply key mixing\n",
    "\n",
    "# variables\n",
    "round_keys = [55382, 42954, 53122, 38368, 40273]\n",
    "\n",
    "s_box = {\n",
    "    0x0: 0xb,\n",
    "    0x1: 0x7,\n",
    "    0x2: 0x5,\n",
    "    0x3: 0xf,\n",
    "    0x4: 0x8,\n",
    "    0x5: 0x9,\n",
    "    0x6: 0x1,\n",
    "    0x7: 0xe,\n",
    "    0x8: 0x4,\n",
    "    0x9: 0xa,\n",
    "    0xa: 0x6,\n",
    "    0xb: 0xd,\n",
    "    0xc: 0x2,\n",
    "    0xd: 0xc,\n",
    "    0xe: 0x0,\n",
    "    0xf: 0x3,\n",
    "}\n",
    "\n",
    "def permutation(bit_str_16: str) -> str:\n",
    "    assert(len(bit_str_16) == PLAINTEXT_BITS)\n",
    "    res = list(bit_str_16)\n",
    "    for i in range(0, PLAINTEXT_BITS):\n",
    "        # print(4 * (i % 4) + (i // 4)) # debug\n",
    "        res[4 * (i % 4) + (i // 4)] = bit_str_16[i]\n",
    "    # print(bit_str_16) # debug\n",
    "    # print(''.join(res)) # debug\n",
    "    return ''.join(res)\n",
    "\n",
    "def encrypt_one_round(to_encrypt: int, k: int) -> str:\n",
    "    # key mixing\n",
    "    # print(to_encrypt, k) # debug\n",
    "    to_encrypt ^= k\n",
    "    # print(to_encrypt) # debug\n",
    "\n",
    "    # 4-bit s-box\n",
    "    PART_NUM_OF_BITS = 4\n",
    "    NUM_OF_PARTS = PLAINTEXT_BITS / PART_NUM_OF_BITS\n",
    "    parts = [] # index 0: least significant\n",
    "    while to_encrypt > 0:\n",
    "        parts.append(to_encrypt % (1 << PART_NUM_OF_BITS))\n",
    "        to_encrypt //= 16\n",
    "    while len(parts) < 4:\n",
    "        parts.append(0)\n",
    "    assert(len(parts) == NUM_OF_PARTS)\n",
    "    parts.reverse()\n",
    "    # print(\"before s-box:\", parts) # debug\n",
    "    for i in range(0, len(parts)):\n",
    "        parts[i] = s_box[parts[i]]\n",
    "    # print(\"after s-box:\", parts) # debug\n",
    "    bit_str_16 = ''.join(to_bit_str(x, PART_NUM_OF_BITS) for x in parts)\n",
    "    # print(bit_str_16) # debug\n",
    "    \n",
    "    # permutation\n",
    "    res = permutation(bit_str_16)\n",
    "    # print(res) # debug\n",
    "    return res\n",
    "\n",
    "def full_encrypt(plaintext: int) -> int:\n",
    "    # print(plaintext, f\"{plaintext:0{PLAINTEXT_BITS}b}\") # debug\n",
    "    tmp = plaintext\n",
    "    for i in range(0, FULL_ENCRYPTION_ROUNDS):\n",
    "        tmp = int(encrypt_one_round(tmp, round_keys[i]), 2)\n",
    "        # print(f\"Round {i + 1}:\") # debug\n",
    "        # print(tmp, f\"{tmp:0{PLAINTEXT_BITS}b}\") # debug\n",
    "    # last round: simple key mixing\n",
    "    tmp ^= round_keys[FULL_ENCRYPTION_ROUNDS]\n",
    "    # print(tmp, f\"{tmp:0{PLAINTEXT_BITS}b}\") # debug\n",
    "    return tmp"
   ]
  },
  {
   "cell_type": "code",
   "execution_count": 109,
   "metadata": {},
   "outputs": [],
   "source": [
    "# generate plaintext-ciphertext pairs that satisfy the chosen plaintext attack requirements\n",
    "pc_paris = dict()\n",
    "# chosen plaintext differentials\n",
    "delta_p = int(\"0000111000000000\", 2)\n",
    "while len(pc_paris) < PLAINTEXT_NUM:\n",
    "    plaintext = random.randint(0, MAX_VALUE)\n",
    "    if plaintext in pc_paris.keys():\n",
    "        continue\n",
    "    pc_paris[plaintext] = full_encrypt(plaintext)\n",
    "    pc_paris[plaintext ^ delta_p] = full_encrypt(plaintext ^ delta_p)\n",
    "assert(len(pc_paris) == PLAINTEXT_NUM)\n",
    "# print(pc_paris)"
   ]
  },
  {
   "cell_type": "markdown",
   "metadata": {},
   "source": [
    "# Person 2"
   ]
  },
  {
   "cell_type": "code",
   "execution_count": 110,
   "metadata": {},
   "outputs": [
    {
     "data": {
      "image/png": "[encoded data removed]",
      "text/plain": [
       "<Figure size 432x432 with 1 Axes>"
      ]
     },
     "metadata": {
      "needs_background": "light"
     },
     "output_type": "display_data"
    }
   ],
   "source": [
    "# compute s-box difference distribution table (Table 7)\n",
    "diff_dist_table = [[0 for i in range(0, 16)] for j in range(0, 16)] # dimension 1: input diff; dimension 2: output diff\n",
    "# print(diff_dist_table)\n",
    "for x1 in range(0, 16):\n",
    "    for x2 in range(0, 16):\n",
    "        delta_x = x1 ^ x2\n",
    "        # print(f\"x1 = {x1}, x2 = {x2}, delta_x = {delta_x}\")\n",
    "        y1 = s_box[x1]\n",
    "        y2 = s_box[x2]\n",
    "        delta_y = y1 ^ y2\n",
    "        # print(f\"y1 = {y1}, y2 = {y2}, delta_y = {delta_y}\\n\")\n",
    "        diff_dist_table[delta_x][delta_y] += 1\n",
    "        # print(diff_dist_table)\n",
    "\n",
    "headers=[hex(i) for i in range(0, 16)]\n",
    "plt.figure(linewidth=2,\n",
    "           figsize=(6, 6))\n",
    "ax = plt.gca()\n",
    "ax.axis(\"off\")\n",
    "\n",
    "rcolors = plt.cm.BuPu(np.full(len(headers), 0.1))\n",
    "ccolors = plt.cm.BuPu(np.full(len(headers), 0.1))\n",
    "table = plt.table(cellText=diff_dist_table,\n",
    "                  rowLabels=headers,\n",
    "                  rowColours=rcolors,\n",
    "                  colLabels=headers,\n",
    "                  colColours=rcolors,\n",
    "                  loc=\"center\")\n",
    "plt.savefig(\"diff-distribution-tale.png\", dpi=300)"
   ]
  },
  {
   "cell_type": "code",
   "execution_count": 111,
   "metadata": {},
   "outputs": [],
   "source": [
    "reverse_s_box = dict((v, k) for k, v in s_box.items())\n",
    "# make sure the reverse mapping is correct\n",
    "for k, v in s_box.items():\n",
    "    assert(reverse_s_box[v] == k)\n",
    "\n",
    "def last_round_partial_decrypt(partial_key: int, partial_ciphertext: int) -> int:\n",
    "    # reverse key mixing\n",
    "    tmp = partial_ciphertext ^ partial_key\n",
    "    # reverse s-box\n",
    "    return reverse_s_box[tmp]"
   ]
  },
  {
   "cell_type": "code",
   "execution_count": 112,
   "metadata": {},
   "outputs": [
    {
     "name": "stdout",
     "output_type": "stream",
     "text": [
      "last_key=1001110101010001, last_key_4_7=1101, last_key_8_11=0101\n",
      "{(0, 0): 40, (0, 1): 32, (0, 2): 42, (0, 3): 24, (0, 4): 38, (0, 5): 22, (0, 6): 54, (0, 7): 36, (0, 8): 40, (0, 9): 34, (0, 10): 50, (0, 11): 46, (0, 12): 52, (0, 13): 38, (0, 14): 52, (0, 15): 48, (1, 0): 26, (1, 1): 42, (1, 2): 48, (1, 3): 50, (1, 4): 40, (1, 5): 44, (1, 6): 32, (1, 7): 42, (1, 8): 48, (1, 9): 64, (1, 10): 50, (1, 11): 78, (1, 12): 46, (1, 13): 68, (1, 14): 36, (1, 15): 54, (2, 0): 54, (2, 1): 36, (2, 2): 58, (2, 3): 42, (2, 4): 36, (2, 5): 36, (2, 6): 52, (2, 7): 40, (2, 8): 64, (2, 9): 38, (2, 10): 56, (2, 11): 30, (2, 12): 50, (2, 13): 30, (2, 14): 40, (2, 15): 30, (3, 0): 36, (3, 1): 48, (3, 2): 46, (3, 3): 56, (3, 4): 42, (3, 5): 46, (3, 6): 26, (3, 7): 30, (3, 8): 50, (3, 9): 52, (3, 10): 36, (3, 11): 48, (3, 12): 46, (3, 13): 50, (3, 14): 40, (3, 15): 36, (4, 0): 42, (4, 1): 38, (4, 2): 54, (4, 3): 30, (4, 4): 52, (4, 5): 38, (4, 6): 50, (4, 7): 44, (4, 8): 48, (4, 9): 34, (4, 10): 50, (4, 11): 36, (4, 12): 54, (4, 13): 38, (4, 14): 46, (4, 15): 42, (5, 0): 30, (5, 1): 42, (5, 2): 42, (5, 3): 50, (5, 4): 42, (5, 5): 56, (5, 6): 32, (5, 7): 46, (5, 8): 48, (5, 9): 46, (5, 10): 46, (5, 11): 48, (5, 12): 42, (5, 13): 46, (5, 14): 34, (5, 15): 38, (6, 0): 56, (6, 1): 50, (6, 2): 52, (6, 3): 34, (6, 4): 54, (6, 5): 62, (6, 6): 58, (6, 7): 40, (6, 8): 66, (6, 9): 32, (6, 10): 46, (6, 11): 26, (6, 12): 62, (6, 13): 30, (6, 14): 56, (6, 15): 48, (7, 0): 38, (7, 1): 62, (7, 2): 56, (7, 3): 66, (7, 4): 54, (7, 5): 74, (7, 6): 32, (7, 7): 48, (7, 8): 58, (7, 9): 56, (7, 10): 48, (7, 11): 54, (7, 12): 68, (7, 13): 66, (7, 14): 58, (7, 15): 66, (8, 0): 44, (8, 1): 40, (8, 2): 48, (8, 3): 50, (8, 4): 36, (8, 5): 36, (8, 6): 36, (8, 7): 40, (8, 8): 48, (8, 9): 48, (8, 10): 52, (8, 11): 36, (8, 12): 32, (8, 13): 24, (8, 14): 42, (8, 15): 40, (9, 0): 52, (9, 1): 28, (9, 2): 46, (9, 3): 38, (9, 4): 48, (9, 5): 18, (9, 6): 38, (9, 7): 24, (9, 8): 20, (9, 9): 30, (9, 10): 30, (9, 11): 36, (9, 12): 24, (9, 13): 40, (9, 14): 38, (9, 15): 26, (10, 0): 40, (10, 1): 32, (10, 2): 26, (10, 3): 32, (10, 4): 32, (10, 5): 28, (10, 6): 38, (10, 7): 26, (10, 8): 32, (10, 9): 32, (10, 10): 46, (10, 11): 36, (10, 12): 54, (10, 13): 40, (10, 14): 44, (10, 15): 34, (11, 0): 32, (11, 1): 40, (11, 2): 32, (11, 3): 40, (11, 4): 28, (11, 5): 36, (11, 6): 38, (11, 7): 30, (11, 8): 34, (11, 9): 28, (11, 10): 24, (11, 11): 36, (11, 12): 42, (11, 13): 38, (11, 14): 32, (11, 15): 26, (12, 0): 46, (12, 1): 32, (12, 2): 38, (12, 3): 34, (12, 4): 40, (12, 5): 38, (12, 6): 46, (12, 7): 36, (12, 8): 40, (12, 9): 36, (12, 10): 56, (12, 11): 42, (12, 12): 44, (12, 13): 34, (12, 14): 44, (12, 15): 42, (13, 0): 34, (13, 1): 42, (13, 2): 42, (13, 3): 48, (13, 4): 34, (13, 5): 36, (13, 6): 42, (13, 7): 42, (13, 8): 26, (13, 9): 26, (13, 10): 36, (13, 11): 38, (13, 12): 44, (13, 13): 38, (13, 14): 50, (13, 15): 46, (14, 0): 34, (14, 1): 42, (14, 2): 44, (14, 3): 38, (14, 4): 40, (14, 5): 40, (14, 6): 38, (14, 7): 26, (14, 8): 38, (14, 9): 38, (14, 10): 42, (14, 11): 38, (14, 12): 56, (14, 13): 32, (14, 14): 44, (14, 15): 50, (15, 0): 48, (15, 1): 22, (15, 2): 42, (15, 3): 32, (15, 4): 36, (15, 5): 30, (15, 6): 48, (15, 7): 22, (15, 8): 24, (15, 9): 18, (15, 10): 36, (15, 11): 32, (15, 12): 40, (15, 13): 36, (15, 14): 28, (15, 15): 26}\n"
     ]
    }
   ],
   "source": [
    "delta_u44_u47 = int(\"0110\", 2) # NOTE: delta_u45_u48 in the figure 5\n",
    "delta_u48_u411 = int(\"0110\", 2) # NOTE: delta_u49_u412 in the figure 5\n",
    "\n",
    "last_key = to_bit_str(round_keys[4], PLAINTEXT_BITS)\n",
    "last_key_4_7 = last_key[4: 7+1]\n",
    "last_key_8_11 = last_key[8: 11+1]\n",
    "print(f\"last_key={last_key}, last_key_4_7={last_key_4_7}, last_key_8_11={last_key_8_11}\") # debug\n",
    "\n",
    "# dimension 1: k55_k58; dimension 1: k59_k512\n",
    "counter = dict()\n",
    "# init\n",
    "for k55_k58 in range(0, 16):\n",
    "    for k59_k512 in range(0, 16):\n",
    "        counter[(k55_k58, k59_k512)] = 0\n",
    "# compute\n",
    "for k55_k58 in range(0, 16):\n",
    "    for k59_k512 in range(0, 16):\n",
    "        # print(f\"k55_k58={k55_k58}, k59_k512={k59_k512}\") # debug\n",
    "        for p, c in pc_paris.items():\n",
    "            # partial decrypt the first one\n",
    "            c_str = to_bit_str(c, PLAINTEXT_BITS)\n",
    "            # print(f\"c = {c}, c_str={c_str}, c_str[4: 7+1]={c_str[4: 7+1]}, c_str[8: 11+1]={c_str[8: 11+1]}\") # debug\n",
    "            rc_44_47 = last_round_partial_decrypt(k55_k58, int(c_str[4: 7+1], 2))\n",
    "            rc_48_411 = last_round_partial_decrypt(k59_k512, int(c_str[8: 11+1], 2))\n",
    "\n",
    "            # partial decrypt the second one\n",
    "            pp = p ^ delta_p\n",
    "            assert(pp in pc_paris.keys())\n",
    "            cc = pc_paris[pp]\n",
    "            cc_str = to_bit_str(cc, PLAINTEXT_BITS)\n",
    "            # print(f\"cc = {cc}, c_str={cc_str}, cc_str[4: 7+1]={cc_str[4: 7+1]}, cc_str[8: 11+1]={cc_str[8: 11+1]}\") # debug\n",
    "            rcc_44_47 = last_round_partial_decrypt(k55_k58, int(cc_str[4: 7+1], 2))\n",
    "            rcc_48_411 = last_round_partial_decrypt(k59_k512, int(cc_str[8: 11+1], 2))\n",
    "\n",
    "            # calculate the diff\n",
    "            diff_44_47 = rc_44_47 ^ rcc_44_47\n",
    "            diff_48_411 = rc_48_411 ^ rcc_48_411\n",
    "            if (diff_44_47 == delta_u44_u47) and (diff_48_411 == delta_u48_u411):\n",
    "                counter[(k55_k58, k59_k512)] += 1\n",
    "\n",
    "# sort the dict by values in the descending order\n",
    "# sorted_counter = dict(sorted(counter.items(), key=lambda item: item[1], reverse=True))\n",
    "print(counter)"
   ]
  }
 ],
 "metadata": {
  "kernelspec": {
   "display_name": "Python 3.8.10 64-bit",
   "language": "python",
   "name": "python3"
  },
  "language_info": {
   "codemirror_mode": {
    "name": "ipython",
    "version": 3
   },
   "file_extension": ".py",
   "mimetype": "text/x-python",
   "name": "python",
   "nbconvert_exporter": "python",
   "pygments_lexer": "ipython3",
   "version": "3.8.10"
  },
  "orig_nbformat": 4,
  "vscode": {
   "interpreter": {
    "hash": "0abbb9a539d9e0321e8a1c94c5dc42e0fba80547b1aefc472ffee8d680ca5a7f"
   }
  }
 },
 "nbformat": 4,
 "nbformat_minor": 2
}
